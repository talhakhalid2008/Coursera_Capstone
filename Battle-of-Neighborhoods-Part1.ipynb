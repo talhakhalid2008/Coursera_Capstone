{
 "cells": [
  {
   "cell_type": "markdown",
   "metadata": {},
   "source": [
    "# The Battle of the Neighborhoods  \n",
    "   \n",
    "## Introduction\n",
    "Pakistan being a developing country has limited resources and provides limited opportunities of employment to young people. As a result, people tend to migrate to developed countries in search of employment or business opportunities. This leads to an increase in the negative migration rate (reference: https://www.indexmundi.com/pakistan/net_migration_rate.html), which means that more people are migrating to other countries every year. Now, young entrepreneurs who are interested in opening up their own businesses abroad, struggle a lot and waste a lot of resources trying to research and understand the new market in order to make better business decisions. They need to have a working method to assist them in making better investment decisions without spending huge loads of money at the start on market research."
   ]
  },
  {
   "cell_type": "markdown",
   "metadata": {},
   "source": [
    "## 1. Business Problem\n",
    "One of the most appealing destinations for young entrepreneurs is London(United Kingdom) because of its multi-cultural and diverse audience. London also has been a popular tourist destination for the past few decades, which makes it a dream city for businesses who want to reach a larger audience. So our business problem will be based on London. We want to assist an entrepreneur who wants to start a Pakistani restaurant in London. Instead of spending money on market research through agencies or by herself and taking huge risk with her investment even after market research, she wants to know which would be the most suitable area to open a Pakistani restaurant in London? This would help her understand the population of different areas of London and location of different types of restaurants, and based on the analysis she can make better decision on where to open a Pakistani restaurant which would be profitable.  \n",
    "Any entrepreneur from Pakistan would be interested in this project, since it'll assist them in making better investment decisions and saving them good amount of market research costs."
   ]
  },
  {
   "cell_type": "markdown",
   "metadata": {},
   "source": [
    "## 2. Data\n",
    "To solve our business problem, we'll need data about the areas of London and the types of restaurants across the different areas of London. We'll use the 'list of areas of London' from the Wikipedia page:  \n",
    "https://en.wikipedia.org/wiki/List_of_areas_of_London  \n",
    "We'll need to filter out the areas with the most Asian Population (since Pakistanis fall under the Asian race for categorization). To do that, we can use the 'Demography of London' from the Wikipedia page, which contains a table that divides the proportion of races by London Boroughs:  \n",
    "https://en.wikipedia.org/wiki/Demography_of_London  \n",
    "After filtering out the areas with the biggest proportion of Asian population, we'll use Python's 'Geocoder' package with 'arcgis geocoder' to get the lat, long coordinates for all our locations.\n",
    "Then, we'll use Foursquare API to gather the types of venues in our preferred areas. We'll use that data to analyze the venue category type 'Asian Restaurants', and perform segmentation and clustering to devise meaningful conclusions about which cluster would be the most suitable to open a Pakistani restaurant in."
   ]
  }
 ],
 "metadata": {
  "kernelspec": {
   "display_name": "Python",
   "language": "python",
   "name": "conda-env-python-py"
  },
  "language_info": {
   "codemirror_mode": {
    "name": "ipython",
    "version": 3
   },
   "file_extension": ".py",
   "mimetype": "text/x-python",
   "name": "python",
   "nbconvert_exporter": "python",
   "pygments_lexer": "ipython3",
   "version": "3.6.7"
  }
 },
 "nbformat": 4,
 "nbformat_minor": 4
}
